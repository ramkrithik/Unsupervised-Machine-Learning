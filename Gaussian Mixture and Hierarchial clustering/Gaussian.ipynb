{
 "cells": [
  {
   "cell_type": "markdown",
   "metadata": {
    "id": "gpzHiEl3x3jQ"
   },
   "source": [
    "# PACKAGES USED "
   ]
  },
  {
   "cell_type": "code",
   "execution_count": null,
   "metadata": {
    "colab": {
     "base_uri": "https://localhost:8080/",
     "height": 71
    },
    "id": "6B0pAQthcT6U",
    "outputId": "b7392bc8-8a2d-4b6c-c138-b4b000084552"
   },
   "outputs": [
    {
     "name": "stderr",
     "output_type": "stream",
     "text": [
      "/usr/local/lib/python3.6/dist-packages/sklearn/externals/six.py:31: FutureWarning: The module is deprecated in version 0.21 and will be removed in version 0.23 since we've dropped support for Python 2.7. Please rely on the official version of six (https://pypi.org/project/six/).\n",
      "  \"(https://pypi.org/project/six/).\", FutureWarning)\n"
     ]
    }
   ],
   "source": [
    "import numpy as np\n",
    "import pandas as pd\n",
    "from sklearn.tree import DecisionTreeClassifier\n",
    "from sklearn.model_selection import train_test_split,KFold\n",
    "from sklearn.metrics import confusion_matrix\n",
    "from sklearn.tree import export_graphviz\n",
    "from sklearn.externals.six import StringIO \n",
    "from IPython.display import Image \n",
    "from sklearn.metrics import roc_curve\n",
    "from sklearn.metrics import roc_auc_score\n",
    "from sklearn.svm import SVC\n",
    "import pydotplus\n",
    "from sklearn.preprocessing import LabelBinarizer\n",
    "import matplotlib.pyplot as plt\n",
    "from sklearn.cluster import AgglomerativeClustering\n",
    "from sklearn.preprocessing import MinMaxScaler\n",
    "from scipy.cluster.hierarchy import dendrogram\n",
    "from scipy.cluster import hierarchy\n",
    "from sklearn.mixture import GaussianMixture"
   ]
  },
  {
   "cell_type": "markdown",
   "metadata": {
    "id": "UhIjXtFqzGUI"
   },
   "source": [
    "# CLUSTERING"
   ]
  },
  {
   "cell_type": "markdown",
   "metadata": {
    "id": "N1u-rPOmzJj6"
   },
   "source": [
    "# HIERARCHIAL CLUSTERING ( MANHATTAN DISTANCE )"
   ]
  },
  {
   "cell_type": "markdown",
   "metadata": {
    "id": "vaDLfY78zTlQ"
   },
   "source": [
    "Due to high volume of data(1.4 L rows) google colab and my laptop could not process it. So I did with 10 CSV files."
   ]
  },
  {
   "cell_type": "code",
   "execution_count": null,
   "metadata": {
    "colab": {
     "base_uri": "https://localhost:8080/",
     "height": 419
    },
    "id": "jtvcAPLsmuAt",
    "outputId": "4a41ca0c-8e00-472a-a6b6-6e97518ef848"
   },
   "outputs": [
    {
     "data": {
      "text/html": [
       "<div>\n",
       "<style scoped>\n",
       "    .dataframe tbody tr th:only-of-type {\n",
       "        vertical-align: middle;\n",
       "    }\n",
       "\n",
       "    .dataframe tbody tr th {\n",
       "        vertical-align: top;\n",
       "    }\n",
       "\n",
       "    .dataframe thead th {\n",
       "        text-align: right;\n",
       "    }\n",
       "</style>\n",
       "<table border=\"1\" class=\"dataframe\">\n",
       "  <thead>\n",
       "    <tr style=\"text-align: right;\">\n",
       "      <th></th>\n",
       "      <th>step</th>\n",
       "      <th>x</th>\n",
       "      <th>y</th>\n",
       "      <th>z</th>\n",
       "      <th>person</th>\n",
       "    </tr>\n",
       "  </thead>\n",
       "  <tbody>\n",
       "    <tr>\n",
       "      <th>0</th>\n",
       "      <td>0.000000</td>\n",
       "      <td>0.69464</td>\n",
       "      <td>3.17350</td>\n",
       "      <td>7.5048</td>\n",
       "      <td>1</td>\n",
       "    </tr>\n",
       "    <tr>\n",
       "      <th>1</th>\n",
       "      <td>0.030639</td>\n",
       "      <td>0.14982</td>\n",
       "      <td>3.48680</td>\n",
       "      <td>9.2755</td>\n",
       "      <td>1</td>\n",
       "    </tr>\n",
       "    <tr>\n",
       "      <th>2</th>\n",
       "      <td>0.069763</td>\n",
       "      <td>-0.29965</td>\n",
       "      <td>1.94770</td>\n",
       "      <td>9.1120</td>\n",
       "      <td>1</td>\n",
       "    </tr>\n",
       "    <tr>\n",
       "      <th>3</th>\n",
       "      <td>0.099823</td>\n",
       "      <td>-1.68890</td>\n",
       "      <td>1.41650</td>\n",
       "      <td>10.1200</td>\n",
       "      <td>1</td>\n",
       "    </tr>\n",
       "    <tr>\n",
       "      <th>4</th>\n",
       "      <td>0.129820</td>\n",
       "      <td>-2.17930</td>\n",
       "      <td>0.95342</td>\n",
       "      <td>10.9240</td>\n",
       "      <td>1</td>\n",
       "    </tr>\n",
       "    <tr>\n",
       "      <th>...</th>\n",
       "      <td>...</td>\n",
       "      <td>...</td>\n",
       "      <td>...</td>\n",
       "      <td>...</td>\n",
       "      <td>...</td>\n",
       "    </tr>\n",
       "    <tr>\n",
       "      <th>38310</th>\n",
       "      <td>256.000000</td>\n",
       "      <td>-0.76274</td>\n",
       "      <td>5.78860</td>\n",
       "      <td>8.3493</td>\n",
       "      <td>9</td>\n",
       "    </tr>\n",
       "    <tr>\n",
       "      <th>38311</th>\n",
       "      <td>256.030000</td>\n",
       "      <td>-0.69464</td>\n",
       "      <td>6.23810</td>\n",
       "      <td>7.0145</td>\n",
       "      <td>9</td>\n",
       "    </tr>\n",
       "    <tr>\n",
       "      <th>38312</th>\n",
       "      <td>256.060000</td>\n",
       "      <td>-0.69464</td>\n",
       "      <td>5.82950</td>\n",
       "      <td>6.7421</td>\n",
       "      <td>9</td>\n",
       "    </tr>\n",
       "    <tr>\n",
       "      <th>38313</th>\n",
       "      <td>256.090000</td>\n",
       "      <td>-0.57205</td>\n",
       "      <td>5.47540</td>\n",
       "      <td>7.8589</td>\n",
       "      <td>9</td>\n",
       "    </tr>\n",
       "    <tr>\n",
       "      <th>38314</th>\n",
       "      <td>256.120000</td>\n",
       "      <td>-0.69464</td>\n",
       "      <td>5.62520</td>\n",
       "      <td>7.4640</td>\n",
       "      <td>9</td>\n",
       "    </tr>\n",
       "  </tbody>\n",
       "</table>\n",
       "<p>38315 rows × 5 columns</p>\n",
       "</div>"
      ],
      "text/plain": [
       "             step        x        y        z  person\n",
       "0        0.000000  0.69464  3.17350   7.5048       1\n",
       "1        0.030639  0.14982  3.48680   9.2755       1\n",
       "2        0.069763 -0.29965  1.94770   9.1120       1\n",
       "3        0.099823 -1.68890  1.41650  10.1200       1\n",
       "4        0.129820 -2.17930  0.95342  10.9240       1\n",
       "...           ...      ...      ...      ...     ...\n",
       "38310  256.000000 -0.76274  5.78860   8.3493       9\n",
       "38311  256.030000 -0.69464  6.23810   7.0145       9\n",
       "38312  256.060000 -0.69464  5.82950   6.7421       9\n",
       "38313  256.090000 -0.57205  5.47540   7.8589       9\n",
       "38314  256.120000 -0.69464  5.62520   7.4640       9\n",
       "\n",
       "[38315 rows x 5 columns]"
      ]
     },
     "execution_count": 28,
     "metadata": {
      "tags": []
     },
     "output_type": "execute_result"
    }
   ],
   "source": [
    "c1=[]\n",
    "for i in range(1,10):\n",
    "  s='/content/{}.csv'.format(i)\n",
    "  data = pd.read_csv(s, index_col=None, header=0)\n",
    "  l=[]\n",
    "  for j in range(len(data)):\n",
    "    l.append(i)\n",
    "  data['person']=l\n",
    "  c1.append(data)\n",
    "frame = pd.concat(c1, axis=0, ignore_index=True)\n",
    "frame"
   ]
  },
  {
   "cell_type": "code",
   "execution_count": null,
   "metadata": {
    "colab": {
     "base_uri": "https://localhost:8080/",
     "height": 221
    },
    "id": "qA9Kvt667Fb9",
    "outputId": "b60a160c-6617-49cd-fcf9-07797e48274b"
   },
   "outputs": [
    {
     "name": "stdout",
     "output_type": "stream",
     "text": [
      "<class 'pandas.core.frame.DataFrame'>\n",
      "RangeIndex: 38315 entries, 0 to 38314\n",
      "Data columns (total 5 columns):\n",
      " #   Column  Non-Null Count  Dtype  \n",
      "---  ------  --------------  -----  \n",
      " 0   step    38315 non-null  float64\n",
      " 1   x       38315 non-null  float64\n",
      " 2   y       38315 non-null  float64\n",
      " 3   z       38315 non-null  float64\n",
      " 4   person  38315 non-null  int64  \n",
      "dtypes: float64(4), int64(1)\n",
      "memory usage: 1.5 MB\n"
     ]
    }
   ],
   "source": [
    "frame.info()"
   ]
  },
  {
   "cell_type": "code",
   "execution_count": null,
   "metadata": {
    "id": "NVlRkLsA7LVd"
   },
   "outputs": [],
   "source": [
    "frame.to_csv('/content/processed.csv')"
   ]
  },
  {
   "cell_type": "code",
   "execution_count": null,
   "metadata": {
    "id": "ZE5taxEz7kge"
   },
   "outputs": [],
   "source": [
    "X=np.array(frame.iloc[:,0:len(frame.columns)-1])\n",
    "Y=np.array(frame.iloc[:,len(frame.columns)-1])"
   ]
  },
  {
   "cell_type": "code",
   "execution_count": null,
   "metadata": {
    "colab": {
     "base_uri": "https://localhost:8080/",
     "height": 34
    },
    "id": "bKTpHwW-77cs",
    "outputId": "7bebc314-3d69-4e3f-ce2e-59e42d7956ca"
   },
   "outputs": [
    {
     "data": {
      "text/plain": [
       "array([0, 0, 0, ..., 4, 4, 4])"
      ]
     },
     "execution_count": 32,
     "metadata": {
      "tags": []
     },
     "output_type": "execute_result"
    }
   ],
   "source": [
    "av = AgglomerativeClustering(n_clusters=9,linkage = \"average\",affinity='manhattan')\n",
    "t=av.fit(X)\n",
    "val=av.fit_predict(X)\n",
    "val"
   ]
  },
  {
   "cell_type": "code",
   "execution_count": null,
   "metadata": {
    "colab": {
     "base_uri": "https://localhost:8080/",
     "height": 68
    },
    "id": "ZKS0orI9Fccw",
    "outputId": "3cadb4d5-2b76-4a8c-8763-e6703100a425"
   },
   "outputs": [
    {
     "data": {
      "text/plain": [
       "AgglomerativeClustering(affinity='manhattan', compute_full_tree='auto',\n",
       "                        connectivity=None, distance_threshold=0,\n",
       "                        linkage='average', memory=None, n_clusters=None)"
      ]
     },
     "execution_count": 33,
     "metadata": {
      "tags": []
     },
     "output_type": "execute_result"
    }
   ],
   "source": [
    "ac = AgglomerativeClustering(distance_threshold=0, n_clusters=None,linkage = \"average\",affinity='manhattan')\n",
    "ac.fit(X)"
   ]
  },
  {
   "cell_type": "code",
   "execution_count": null,
   "metadata": {
    "colab": {
     "base_uri": "https://localhost:8080/",
     "height": 306
    },
    "id": "L5b7OWWDFkJ9",
    "outputId": "b786b76a-da14-4725-c9ad-4558cb931b9d"
   },
   "outputs": [
    {
     "data": {
      "image/png": "[encoded data removed]",
      "text/plain": [
       "<Figure size 432x288 with 1 Axes>"
      ]
     },
     "metadata": {
      "needs_background": "light",
      "tags": []
     },
     "output_type": "display_data"
    }
   ],
   "source": [
    "def plot_dendrogram(model, **kwargs):\n",
    "    counts = np.zeros(model.children_.shape[0])\n",
    "    n_samples = len(model.labels_)\n",
    "    for i, merge in enumerate(model.children_):\n",
    "        current_count = 0\n",
    "        for child_idx in merge:\n",
    "            if child_idx < n_samples:\n",
    "                current_count += 1\n",
    "            else:\n",
    "                current_count += counts[child_idx - n_samples]\n",
    "        counts[i] = current_count\n",
    "\n",
    "    linkage_matrix = np.column_stack([model.children_, model.distances_,\n",
    "                                      counts]).astype(float)\n",
    "    dendrogram(linkage_matrix, **kwargs)\n",
    "plt.title('Hierarchical Clustering Dendrogram')\n",
    "plot_dendrogram(ac, truncate_mode='level', p=5)\n",
    "plt.xlabel(\"Number of points in node (or index of point if no parenthesis).\")\n",
    "plt.show()"
   ]
  },
  {
   "cell_type": "code",
   "execution_count": null,
   "metadata": {
    "colab": {
     "base_uri": "https://localhost:8080/",
     "height": 285
    },
    "id": "_2R9hBlzDF6V",
    "outputId": "b19c334e-c046-4c42-d283-14db7370d830"
   },
   "outputs": [
    {
     "data": {
      "text/plain": [
       "<matplotlib.collections.PathCollection at 0x7f94dd35ef60>"
      ]
     },
     "execution_count": 35,
     "metadata": {
      "tags": []
     },
     "output_type": "execute_result"
    },
    {
     "data": {
      "image/png": "[encoded data removed]",
      "text/plain": [
       "<Figure size 432x288 with 1 Axes>"
      ]
     },
     "metadata": {
      "needs_background": "light",
      "tags": []
     },
     "output_type": "display_data"
    }
   ],
   "source": [
    "l=range(len(val))\n",
    "plt.scatter(val,l,c=val)"
   ]
  },
  {
   "cell_type": "code",
   "execution_count": null,
   "metadata": {
    "colab": {
     "base_uri": "https://localhost:8080/",
     "height": 34
    },
    "id": "JYPjFPrPE5kM",
    "outputId": "7b06cc30-156e-4d0b-fdff-d9d55069f77c"
   },
   "outputs": [
    {
     "name": "stdout",
     "output_type": "stream",
     "text": [
      "Hierarchial:  0.022785402152666497\n"
     ]
    }
   ],
   "source": [
    "print(\"Hierarchial: \",metrics.adjusted_rand_score(Y,val))"
   ]
  },
  {
   "cell_type": "markdown",
   "metadata": {
    "id": "wh1PCDo5zoKx"
   },
   "source": [
    "# PROBABILITY BASED CLUSTERING (GAUSSIAN MIXTURE MODEL)"
   ]
  },
  {
   "cell_type": "code",
   "execution_count": null,
   "metadata": {
    "id": "m1WMRWTsFKsS"
   },
   "outputs": [],
   "source": [
    "model = GaussianMixture(n_components=9)"
   ]
  },
  {
   "cell_type": "code",
   "execution_count": null,
   "metadata": {
    "colab": {
     "base_uri": "https://localhost:8080/",
     "height": 85
    },
    "id": "PnmoAr9itzK7",
    "outputId": "5d040877-196f-4f03-fa05-302335c0b13b"
   },
   "outputs": [
    {
     "data": {
      "text/plain": [
       "GaussianMixture(covariance_type='full', init_params='kmeans', max_iter=100,\n",
       "                means_init=None, n_components=9, n_init=1, precisions_init=None,\n",
       "                random_state=None, reg_covar=1e-06, tol=0.001, verbose=0,\n",
       "                verbose_interval=10, warm_start=False, weights_init=None)"
      ]
     },
     "execution_count": 38,
     "metadata": {
      "tags": []
     },
     "output_type": "execute_result"
    }
   ],
   "source": [
    "model.fit(X)"
   ]
  },
  {
   "cell_type": "code",
   "execution_count": null,
   "metadata": {
    "colab": {
     "base_uri": "https://localhost:8080/",
     "height": 34
    },
    "id": "aMtzuvzRt2pe",
    "outputId": "e2865904-b621-4c0e-823f-196ef521933a"
   },
   "outputs": [
    {
     "data": {
      "text/plain": [
       "array([0, 0, 0, ..., 1, 1, 1])"
      ]
     },
     "execution_count": 39,
     "metadata": {
      "tags": []
     },
     "output_type": "execute_result"
    }
   ],
   "source": [
    "val = model.predict(X)\n",
    "val"
   ]
  },
  {
   "cell_type": "code",
   "execution_count": null,
   "metadata": {
    "colab": {
     "base_uri": "https://localhost:8080/",
     "height": 285
    },
    "id": "FaxqrW-Et7YM",
    "outputId": "5aca35a1-b8aa-4a8f-f1c1-f7e339b0489f"
   },
   "outputs": [
    {
     "data": {
      "text/plain": [
       "<matplotlib.collections.PathCollection at 0x7f94dd268710>"
      ]
     },
     "execution_count": 40,
     "metadata": {
      "tags": []
     },
     "output_type": "execute_result"
    },
    {
     "data": {
      "image/png": "[encoded data removed]",
      "text/plain": [
       "<Figure size 432x288 with 1 Axes>"
      ]
     },
     "metadata": {
      "needs_background": "light",
      "tags": []
     },
     "output_type": "display_data"
    }
   ],
   "source": [
    "l=range(len(val))\n",
    "plt.scatter(val,l,c=val)"
   ]
  },
  {
   "cell_type": "code",
   "execution_count": null,
   "metadata": {
    "colab": {
     "base_uri": "https://localhost:8080/",
     "height": 34
    },
    "id": "N_C7RZA8udgQ",
    "outputId": "7b3dc84a-31a0-4790-b90f-adb9796189b0"
   },
   "outputs": [
    {
     "name": "stdout",
     "output_type": "stream",
     "text": [
      "Hierarchial:  0.05318704175140253\n"
     ]
    }
   ],
   "source": [
    "print(\"Gaussian: \",metrics.adjusted_rand_score(Y,val))"
   ]
  }
 ],
 "metadata": {
  "colab": {
   "collapsed_sections": [],
   "name": "THDA.ipynb",
   "provenance": []
  },
  "kernelspec": {
   "display_name": "Python 3",
   "language": "python",
   "name": "python3"
  }
 },
 "nbformat": 4,
 "nbformat_minor": 1
}
